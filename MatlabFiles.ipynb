{
 "cells": [
  {
   "cell_type": "code",
   "execution_count": 2,
   "metadata": {},
   "outputs": [
    {
     "name": "stdout",
     "output_type": "stream",
     "text": [
      "dict_keys(['__header__', '__version__', '__globals__', 'engJ', 'cate_new', 'color_', 'gender_', 'sleeve_', 'img_root', 'nameList', 'codeJ'])\n",
      "b'MATLAB 5.0 MAT-file, Platform: GLNXA64, Created on: Wed Sep 27 05:52:46 2017'\n",
      "Gender: [0]\n",
      "[array(['the lady was wearing a pink sleeveless blouse.'], dtype='<U46')]\n",
      "[2]\n",
      "[4]\n",
      "[0]\n",
      "[3]\n",
      "~/link/alper/data/df1/Img/\n",
      "[array(['img/Sleek_Woven_Pocket_Blouse/img_00000029.jpg'], dtype='<U46')]\n",
      "[array([[ 1],\n",
      "       [ 2],\n",
      "       [ 3],\n",
      "       [ 4],\n",
      "       [ 5],\n",
      "       [16],\n",
      "       [15],\n",
      "       [ 8]], dtype=uint8)]\n"
     ]
    },
    {
     "data": {
      "text/plain": [
       "'for k, v in mat.items():\\n    exec(k +  \" = mat[\\'\" + k + \"\\']\")\\n    \\nsecondMat = scipy.io.loadmat(\\'ind.mat\\')\\nprint(secondMat.keys())\\nprint(secondMat.get(\\'train_ind\\'))'"
      ]
     },
     "execution_count": 2,
     "metadata": {},
     "output_type": "execute_result"
    }
   ],
   "source": [
    "# -*- coding: utf-8 -*-\n",
    "\"\"\"\n",
    "Created on Mon Nov 18 11:23:43 2019\n",
    "\n",
    "@author: Frede\n",
    "\"\"\"\n",
    "import numpy as np\n",
    "import scipy.io\n",
    "from scipy.io import loadmat\n",
    "mat = loadmat('language_original.mat')\n",
    "print(mat.keys())\n",
    "print(mat.get('__header__'))\n",
    "header1 = 'gender_'\n",
    "header2 = 'engJ'\n",
    "header3 = 'cate_new'\n",
    "header4 = 'color_'\n",
    "header5 = 'gender_'\n",
    "header6 = 'sleeve_'\n",
    "header7 = 'img_root'\n",
    "header8 = 'nameList'\n",
    "header9 = 'codeJ'\n",
    "data1 = mat.get(header1)\n",
    "data2 = mat.get(header2)\n",
    "data3 = mat.get(header3)\n",
    "data4 = mat.get(header4)\n",
    "data5 = mat.get(header5)\n",
    "data6 = mat.get(header6)\n",
    "data7 = mat.get(header7)\n",
    "data8 = mat.get(header8)\n",
    "data9 = mat.get(header9)\n",
    "indexToUse = 500\n",
    "print(\"Gender: \" + str(data1[indexToUse]))\n",
    "print(data2[indexToUse])\n",
    "print(data3[indexToUse])\n",
    "print(data4[indexToUse])\n",
    "print(data5[indexToUse])\n",
    "print(data6[indexToUse])\n",
    "print(data7[0])\n",
    "print(data8[indexToUse])\n",
    "print(data9[indexToUse])\n",
    "\n",
    "\"\"\"for k, v in mat.items():\n",
    "    exec(k +  \" = mat['\" + k + \"']\")\n",
    "    \n",
    "secondMat = scipy.io.loadmat('ind.mat')\n",
    "print(secondMat.keys())\n",
    "print(secondMat.get('train_ind'))\"\"\""
   ]
  },
  {
   "cell_type": "markdown",
   "metadata": {},
   "source": [
    "### Import file"
   ]
  },
  {
   "cell_type": "code",
   "execution_count": null,
   "metadata": {},
   "outputs": [],
   "source": []
  },
  {
   "cell_type": "code",
   "execution_count": null,
   "metadata": {},
   "outputs": [],
   "source": []
  },
  {
   "cell_type": "code",
   "execution_count": null,
   "metadata": {},
   "outputs": [],
   "source": []
  },
  {
   "cell_type": "code",
   "execution_count": null,
   "metadata": {},
   "outputs": [],
   "source": []
  },
  {
   "cell_type": "code",
   "execution_count": null,
   "metadata": {},
   "outputs": [],
   "source": []
  },
  {
   "cell_type": "code",
   "execution_count": null,
   "metadata": {},
   "outputs": [],
   "source": []
  },
  {
   "cell_type": "code",
   "execution_count": 7,
   "metadata": {},
   "outputs": [],
   "source": []
  },
  {
   "cell_type": "code",
   "execution_count": null,
   "metadata": {},
   "outputs": [],
   "source": []
  },
  {
   "cell_type": "markdown",
   "metadata": {},
   "source": [
    "### Network Definition"
   ]
  },
  {
   "cell_type": "code",
   "execution_count": null,
   "metadata": {},
   "outputs": [],
   "source": []
  },
  {
   "cell_type": "markdown",
   "metadata": {},
   "source": [
    "### Running the network"
   ]
  },
  {
   "cell_type": "code",
   "execution_count": null,
   "metadata": {},
   "outputs": [],
   "source": []
  },
  {
   "cell_type": "code",
   "execution_count": null,
   "metadata": {},
   "outputs": [],
   "source": []
  }
 ],
 "metadata": {
  "kernelspec": {
   "display_name": "Python 3",
   "language": "python",
   "name": "python3"
  },
  "language_info": {
   "codemirror_mode": {
    "name": "ipython",
    "version": 3
   },
   "file_extension": ".py",
   "mimetype": "text/x-python",
   "name": "python",
   "nbconvert_exporter": "python",
   "pygments_lexer": "ipython3",
   "version": "3.7.1"
  }
 },
 "nbformat": 4,
 "nbformat_minor": 2
}
