{
 "cells": [
  {
   "cell_type": "markdown",
   "metadata": {},
   "source": [
    "### Importing libraries"
   ]
  },
  {
   "cell_type": "code",
   "execution_count": 1,
   "metadata": {},
   "outputs": [],
   "source": [
    "import os\n",
    "import h5py\n",
    "import torch\n",
    "import numpy as np\n",
    "\n",
    "%matplotlib inline\n",
    "import matplotlib\n",
    "import matplotlib.pyplot as plt"
   ]
  },
  {
   "cell_type": "markdown",
   "metadata": {},
   "source": [
    "### Load data"
   ]
  },
  {
   "cell_type": "code",
   "execution_count": 2,
   "metadata": {},
   "outputs": [],
   "source": [
    "if os.getlogin() == 'johandybkjaer-knudsen':\n",
    "    file_dir = '/Volumes/U/G2.h5'\n",
    "elif os.getlogin() == 'suneetsingh':\n",
    "    file_dir = '/Volumes/VERBATIM HD/Deep learning data/G2.h5'\n",
    "    \n",
    "data = h5py.File(file_dir, 'r')"
   ]
  },
  {
   "cell_type": "markdown",
   "metadata": {},
   "source": [
    "### Get overview of data"
   ]
  },
  {
   "cell_type": "code",
   "execution_count": 3,
   "metadata": {},
   "outputs": [
    {
     "name": "stdout",
     "output_type": "stream",
     "text": [
      "The data contains the following folders: ['b_', 'ih', 'ih_mean']\n",
      "Shape \"b_\": (78979, 1, 128, 128)\n",
      "Shape \"ih\": (78979, 3, 128, 128)\n",
      "Shape \"ih_mean\": (3, 128, 128)\n"
     ]
    }
   ],
   "source": [
    "# Data structure\n",
    "print(\"The data contains the following folders: {}\".format(list(data.keys())))\n",
    "print('Shape \"b_\": {}'.format(data['b_'].shape))\n",
    "print('Shape \"ih\": {}'.format(data['ih'].shape))\n",
    "print('Shape \"ih_mean\": {}'.format(data['ih_mean'].shape))"
   ]
  },
  {
   "cell_type": "code",
   "execution_count": 4,
   "metadata": {},
   "outputs": [
    {
     "data": {
      "image/png": "[encoded data removed]",
      "text/plain": [
       "<Figure size 576x576 with 2 Axes>"
      ]
     },
     "metadata": {
      "needs_background": "light"
     },
     "output_type": "display_data"
    }
   ],
   "source": [
    "# ----- Plot example of data -----\n",
    "randNum = np.random.randint(len(data['ih']))\n",
    "img_mean = data['ih_mean']\n",
    "\n",
    "# Example of grey-scale image\n",
    "img_grey = data['b_'][randNum][0].T\n",
    "plt.figure(figsize=(8, 8))\n",
    "plt.subplot(121)\n",
    "plt.title('Segmentation map')\n",
    "plt.axis('off')\n",
    "plt.imshow(img_grey, cmap='gray')\n",
    "\n",
    "# Example of color image\n",
    "img_color = data['ih'][randNum] + img_mean\n",
    "img_color = img_color.T\n",
    "img_color = torch.from_numpy(img_color)\n",
    "\n",
    "plt.subplot(122)\n",
    "plt.title('True image')\n",
    "plt.axis('off')\n",
    "plt.imshow(img_color)\n",
    "\n",
    "plt.show()"
   ]
  },
  {
   "cell_type": "markdown",
   "metadata": {},
   "source": [
    "### Segmentation"
   ]
  },
  {
   "cell_type": "code",
   "execution_count": 33,
   "metadata": {},
   "outputs": [],
   "source": [
    "# Height\n",
    "def findHeight(image):\n",
    "    a = np.argmax(image, 1)\n",
    "    a = np.trim_zeros(a)\n",
    "    return len(a)\n",
    "\n",
    "# Width \n",
    "def findWidth(image):\n",
    "    a = np.argmax(image, 0)\n",
    "    a = np.trim_zeros(a)\n",
    "    return len(a)\n",
    "\n",
    "# Width to height ratio\n",
    "def ratio(image):\n",
    "    return findWidth(image)/findHeight(image)\n",
    "\n",
    "# Long hair\n",
    "def hasLongHair(image):\n",
    "    # Hair segmentation map\n",
    "    hair = np.where(image != 1, 0, image)\n",
    "    \n",
    "    # Torso segmentation map\n",
    "    torso = np.where(image != 3, 0, image)\n",
    "    \n",
    "    # Lowest pixel of hair\n",
    "    hair_low = np.argmax(hair, 1)\n",
    "    hair_low = np.argwhere(hair_low != 0)\n",
    "    hair_low = hair_low[-1]\n",
    "    \n",
    "    # Highest pixel of torso\n",
    "    torso_high = np.argmax(torso, 1)\n",
    "    torso_high = np.argwhere(torso_high != 0)\n",
    "    torso_high = torso_high[0]\n",
    "    \n",
    "    # Has long hair\n",
    "    if hair_low < torso_high:\n",
    "        hasLongHair = 0\n",
    "    else:\n",
    "        hasLongHair = 1\n",
    "    return hasLongHair\n",
    "\n",
    "def RGB_Y_mean(colorImage):\n",
    "    # Mean colors\n",
    "    R_mean = colorImage[0].mean()\n",
    "    G_mean = colorImage[1].mean()\n",
    "    B_mean = colorImage[2].mean()\n",
    "    Y_mean = colorImage.mean()\n",
    "    \n",
    "    return R_mean, G_mean, B_mean, Y_mean\n",
    "\n",
    "def informationVector(img_ID): # Skal jeg loade hele datasættet op også?\n",
    "    # Get image from ID\n",
    "    segment_IMG = data['b_'][img_ID][0].T\n",
    "    img_mean = data['ih_mean']\n",
    "    color_IMG = data['ih'][img_ID] + img_mean\n",
    "    \n",
    "    R_mean, G_mean, B_mean, Y_mean = RGB_Y_mean(color_IMG)\n",
    "    \n",
    "    vect = np.array([findHeight(segment_IMG), findWidth(segment_IMG), ratio(segment_IMG), \\\n",
    "                     hasLongHair(segment_IMG), R_mean, G_mean, B_mean, Y_mean])\n",
    "    return vect"
   ]
  },
  {
   "cell_type": "code",
   "execution_count": 34,
   "metadata": {},
   "outputs": [
    {
     "data": {
      "text/plain": [
       "array([119.        ,  44.        ,   0.3697479 ,   1.        ,\n",
       "         0.92785764,   0.88738412,   0.87780893,   0.89768362])"
      ]
     },
     "execution_count": 34,
     "metadata": {},
     "output_type": "execute_result"
    }
   ],
   "source": [
    "informationVector(4)"
   ]
  }
 ],
 "metadata": {
  "kernelspec": {
   "display_name": "Python 3",
   "language": "python",
   "name": "python3"
  },
  "language_info": {
   "codemirror_mode": {
    "name": "ipython",
    "version": 3
   },
   "file_extension": ".py",
   "mimetype": "text/x-python",
   "name": "python",
   "nbconvert_exporter": "python",
   "pygments_lexer": "ipython3",
   "version": "3.7.1"
  }
 },
 "nbformat": 4,
 "nbformat_minor": 2
}
