{
 "cells": [
  {
   "cell_type": "markdown",
   "metadata": {},
   "source": [
    "# FASHION GAN #"
   ]
  },
  {
   "cell_type": "markdown",
   "metadata": {},
   "source": [
    "## Dependencies ##"
   ]
  },
  {
   "cell_type": "code",
   "execution_count": 1,
   "metadata": {},
   "outputs": [
    {
     "name": "stdout",
     "output_type": "stream",
     "text": [
      "Using device: cuda:0\n"
     ]
    }
   ],
   "source": [
    "import os\n",
    "import h5py\n",
    "import torch\n",
    "from torch.autograd import Variable\n",
    "from torch.utils.data import DataLoader\n",
    "from torch.utils.data.sampler import SubsetRandomSampler\n",
    "import numpy as np\n",
    "import pickle\n",
    "import math\n",
    "import sys\n",
    "\n",
    "#Custom libraries\n",
    "from Downsampling import GetSegmentationImageReady, OneHotEncodingImage, DownsizeAttributes, DownsampleImage, normalize_image\n",
    "from Gans import Generator1, Discriminator1, Generator2, Discriminator2, initGans\n",
    "import DeepFashDataset\n",
    "\n",
    "%matplotlib inline\n",
    "import matplotlib\n",
    "import matplotlib.pyplot as plt\n",
    "\n",
    "cuda = torch.cuda.is_available()\n",
    "device = torch.device(\"cuda:0\" if cuda else \"cpu\")\n",
    "print(\"Using device: {}\".format(device))\n",
    "generator1, discriminator1, generator2, discriminator2 = initGans(device)"
   ]
  },
  {
   "cell_type": "code",
   "execution_count": 7,
   "metadata": {},
   "outputs": [],
   "source": [
    "# Load images\n",
    "import h5py\n",
    "Data_G2 = h5py.File('Data/G2.h5', 'r')\n",
    "segmentatedImages = Data_G2['b_']\n",
    "# Load attributes\n",
    "from scipy.io import loadmat\n",
    "Data_matlab = loadmat('Data/language_original.mat')\n",
    "ind = loadmat('Data/ind.mat')"
   ]
  },
  {
   "cell_type": "markdown",
   "metadata": {},
   "source": [
    "## Preprocessing (Remove outcomment to run once) ## "
   ]
  },
  {
   "cell_type": "code",
   "execution_count": 3,
   "metadata": {},
   "outputs": [
    {
     "name": "stdout",
     "output_type": "stream",
     "text": [
      "<class 'h5py._hl.files.File'>\n",
      "/downsampledImg\n",
      "(78979, 4, 8, 8)\n",
      "0 out of 78979\n",
      "5000 out of 78979\n",
      "10000 out of 78979\n",
      "15000 out of 78979\n",
      "20000 out of 78979\n",
      "25000 out of 78979\n",
      "30000 out of 78979\n",
      "35000 out of 78979\n",
      "40000 out of 78979\n",
      "45000 out of 78979\n",
      "50000 out of 78979\n",
      "55000 out of 78979\n",
      "60000 out of 78979\n",
      "65000 out of 78979\n",
      "70000 out of 78979\n",
      "75000 out of 78979\n",
      "Done\n"
     ]
    }
   ],
   "source": [
    "## Creates a new dataset\n",
    "\"\"\"\n",
    "CreatedDataSet = h5py.File('Data/CreatedDataSet.h5', 'w')\n",
    "print(type(CreatedDataSet))\n",
    "\n",
    "## Creates new group\n",
    "DownsampleGrp = CreatedDataSet.create_group(\"downsampledImg\")\n",
    "print(DownsampleGrp.name)\n",
    "\n",
    "## Creates new dataset\n",
    "DownsampleGrp.create_dataset(\"downsampledData\", (Data_G2['b_'].shape[0], 4, 8, 8), dtype='i8')\n",
    "#DownsampleGrp.create_dataset(\"downsampledOnehot\", (Data_G2['b_'].shape[0], 4, 128, 128), dtype='i8')\n",
    "\n",
    "\n",
    "downsampledData = CreatedDataSet['downsampledImg'][\"downsampledData\"]\n",
    "print(downsampledData.shape)\n",
    "\n",
    "\n",
    "numberOfIter = downsampledData.shape[0]\n",
    "for i in range(numberOfIter):\n",
    "  if i % 5000 == 0:\n",
    "    print(\"{} out of {}\".format(i, numberOfIter))\n",
    "  segmentatedImage = segmentatedImages[i]\n",
    "  downsizedImage = DownsizeAttributes(segmentatedImage)\n",
    "  oneHotEncodedImage = OneHotEncodingImage(downsizedImage[0], 4)\n",
    "  #downsampledOnehot[i] = oneHotEncodedImage \n",
    "  downsampledImage = np.empty((4,8,8))\n",
    "  downsampleSize =(8,8)\n",
    "  downsampledImage[0] = DownsampleImage(oneHotEncodedImage[0], downsampleSize)\n",
    "  downsampledImage[1] = DownsampleImage(oneHotEncodedImage[1], downsampleSize)\n",
    "  downsampledImage[2] = DownsampleImage(oneHotEncodedImage[2], downsampleSize)\n",
    "  downsampledImage[3] = DownsampleImage(oneHotEncodedImage[3], downsampleSize)\n",
    "  downsampledData[i] = downsampledImage\n",
    "\n",
    "print(\"Done\")\n",
    "CreatedDataSet.close()\"\"\""
   ]
  },
  {
   "cell_type": "code",
   "execution_count": 5,
   "metadata": {},
   "outputs": [],
   "source": [
    "\"\"\"import pandas as pd\n",
    "from AttributeRetriever import allAttributes\n",
    "columns = [\"ID\", \"Height\", \"Width\", \"BodyRatio\", \"HasLongHair\", \"R_mean\", \"G_mean\", \n",
    "           \"B_mean\", \"Y_mean\", \"Gender\"]\n",
    "skipIDs = [7743, 38494, 39961, 61881, 71252, 74775, 76916, 77083]\n",
    "\n",
    "attrList = []\n",
    "for ID in range(len(Data_G2['ih'])):\n",
    "    if ID in skipIDs:\n",
    "        attrList.append(allAttributes(ID, Data_G2, Data_matlab, True))\n",
    "    else:\n",
    "        attrList.append(allAttributes(ID, Data_G2, Data_matlab, False))\n",
    "    \n",
    "    # Show progress\n",
    "    if len(attrList)%2500 == 0:\n",
    "        print(\"{} / {}\".format(ID+1, len(Data_G2['ih'])))  \n",
    "\n",
    "df = pd.DataFrame(data=attrList, columns=columns)\n",
    "df = df.set_index(\"ID\")\"\"\""
   ]
  },
  {
   "cell_type": "code",
   "execution_count": null,
   "metadata": {},
   "outputs": [],
   "source": []
  },
  {
   "cell_type": "markdown",
   "metadata": {},
   "source": [
    "### RNN"
   ]
  },
  {
   "cell_type": "code",
   "execution_count": 8,
   "metadata": {},
   "outputs": [],
   "source": [
    "\"\"\"def cleaning_data(data):\n",
    "  #Cleaning data by removing unnecessary tuples and type data. \n",
    "    cleaned_data = []\n",
    "    for i in range(len(data)):\n",
    "        temp = data[i][0]\n",
    "        cleaned_data.append(temp.tolist())\n",
    "    return cleaned_data\n",
    "\n",
    "\n",
    "\n",
    "categories = torch.LongTensor(cleaning_data(Data_matlab[\"cate_new\"]))\n",
    "genders = torch.LongTensor(cleaning_data(Data_matlab['gender_']))\n",
    "colors = torch.LongTensor(cleaning_data(Data_matlab['color_']))\n",
    "sleeves = torch.LongTensor(cleaning_data(Data_matlab['sleeve_']))\n",
    "codeJ = cleaning_data(Data_matlab['codeJ'])\n",
    "train_ind = torch.LongTensor(cleaning_data(ind['train_ind']))\"\"\""
   ]
  },
  {
   "cell_type": "code",
   "execution_count": 9,
   "metadata": {},
   "outputs": [],
   "source": [
    "\"\"\"test_dim = 78979 # size of test set\n",
    "\n",
    "data_cate_new = torch.IntTensor(test_dim, 1)\n",
    "data_color = torch.IntTensor(test_dim, 1)\n",
    "data_gender = torch.IntTensor(test_dim, 1)\n",
    "data_sleeve = torch.IntTensor(test_dim, 1)\n",
    "for i in range(test_dim):\n",
    "    data_cate_new[i][0] = int(categories[i] - 1)\n",
    "    data_color[i][0] = int(colors[i] - 1)\n",
    "    data_gender[i][0] = int(genders[i])\n",
    "    data_sleeve[i][0] = int(sleeves[i] - 1)\n",
    "\n",
    "\n",
    "def attribute_sample(data_id, batchsize_dim):\n",
    "    cuda_label_cate_new = Variable(torch.LongTensor(batchsize_dim).zero_().cuda())\n",
    "    cuda_label_color = Variable(torch.LongTensor(batchsize_dim).zero_().cuda())\n",
    "    cuda_label_gender = Variable(torch.LongTensor(batchsize_dim).zero_().cuda())\n",
    "    cuda_label_sleeve = Variable(torch.LongTensor(batchsize_dim).zero_().cuda())\n",
    "\n",
    "    cuda_label_cate_new.data[0] = data_cate_new[data_id]\n",
    "    cuda_label_color.data[0] = data_color[data_id]\n",
    "    cuda_label_gender.data[0] = data_gender[data_id]\n",
    "    cuda_label_sleeve.data[0] = data_sleeve[data_id]\n",
    "\n",
    "    return cuda_label_cate_new, cuda_label_color, cuda_label_gender, cuda_label_sleeve\"\"\""
   ]
  },
  {
   "cell_type": "code",
   "execution_count": 10,
   "metadata": {},
   "outputs": [],
   "source": [
    "\"\"\"def one_hot_encoding(words, vocab_size, batch_size):\n",
    "    num_words = len(words)\n",
    "    one_hot = torch.zeros(num_words, batch_size, vocab_size).cuda()\n",
    "    for i in range(num_words):\n",
    "        if one_hot[i][0][words[i][0]-1] != 1:\n",
    "            one_hot[i][0][words[i][0]-1] = 1\n",
    "    return one_hot\"\"\""
   ]
  },
  {
   "cell_type": "code",
   "execution_count": 11,
   "metadata": {},
   "outputs": [
    {
     "data": {
      "text/plain": [
       "Net(\n",
       "  (lstm): RNN(539, 41, bias=False)\n",
       "  (cate_new): Linear(in_features=41, out_features=19, bias=False)\n",
       "  (color): Linear(in_features=41, out_features=17, bias=False)\n",
       "  (gender): Linear(in_features=41, out_features=2, bias=False)\n",
       "  (sleeve): Linear(in_features=41, out_features=4, bias=False)\n",
       ")"
      ]
     },
     "execution_count": 11,
     "metadata": {},
     "output_type": "execute_result"
    }
   ],
   "source": [
    "\"\"\"import numpy as np\n",
    "import torch.nn as nn\n",
    "import torch.nn.functional as F\n",
    "import torch.optim as optim\n",
    "from torch.autograd import Variable\n",
    "\n",
    "vocab_dim = 539 # size of vocabulary\n",
    "num_layers = 1\n",
    "batchsize_dim = 1 #batch only 1 for convenience\n",
    "hidden_dim = 41 # rnn hidden units\n",
    "cate_new_dim = 19 # category of clothes\n",
    "color_dim = 17 #color of clothes\n",
    "gender_dim = 2 # gender\n",
    "sleeve_dim = 4 # length of sleeve\n",
    "test_dim = 78979 # size of test set\n",
    "train_dim = 70000 # size of training set\n",
    "\n",
    "\n",
    "class Net(nn.Module):\n",
    "    def __init__(self):\n",
    "        super(Net, self).__init__()\n",
    "\n",
    "        # Recurrent layer\n",
    "        self.lstm = nn.RNN(vocab_dim, hidden_dim, num_layers, bias=False)\n",
    "        self.cate_new = nn.Linear(hidden_dim, cate_new_dim, bias=False)\n",
    "        self.color = nn.Linear(hidden_dim, color_dim, bias=False)\n",
    "        self.gender = nn.Linear(hidden_dim, gender_dim, bias=False)\n",
    "        self.sleeve = nn.Linear(hidden_dim, sleeve_dim, bias=False)\n",
    "        \n",
    "\n",
    "        \n",
    "    def forward(self, x):\n",
    "        h_input = torch.zeros(num_layers, batchsize_dim, hidden_dim).cuda()\n",
    "        _, hs = self.lstm(x, h_input)\n",
    "        h = hs[-1] \n",
    "        y_cate_new = self.cate_new(h)\n",
    "        y_color = self.color(h)\n",
    "        y_gender = self.gender(h)\n",
    "        y_sleeve = self.sleeve(h)\n",
    "\n",
    "        return h, y_cate_new, y_color, y_gender, y_sleeve\n",
    "\n",
    "\n",
    "net = Net()\n",
    "net.cuda()\"\"\""
   ]
  },
  {
   "cell_type": "code",
   "execution_count": 12,
   "metadata": {},
   "outputs": [],
   "source": [
    "\"\"\"criterion = nn.CrossEntropyLoss().cuda()\n",
    "optimizer = optim.SGD(net.parameters(), lr=0.01)\"\"\""
   ]
  },
  {
   "cell_type": "code",
   "execution_count": 13,
   "metadata": {},
   "outputs": [
    {
     "name": "stdout",
     "output_type": "stream",
     "text": [
      "Training Iter 0: Loss = 7.77244, cate_new (2.84559), color (2.86811), gender(0.64053), sleeve(1.41820)\n",
      "Training Iter 100: Loss = 7.63284, cate_new (2.97524), color (2.78158), gender(0.50256), sleeve(1.37346)\n"
     ]
    }
   ],
   "source": [
    "\"\"\"net.train()\n",
    "for iter in range(1000000):\n",
    "    randomizer = np.random.randint(train_dim-1)\n",
    "    data_id = train_ind[randomizer]\n",
    "    c = codeJ[data_id]\n",
    "\n",
    "    one_hot = one_hot_encoding(c, vocab_dim, batchsize_dim)\n",
    "\n",
    "    cuda_label_cate_new, cuda_label_color, cuda_label_gender, cuda_label_sleeve = attribute_sample(data_id, batchsize_dim)\n",
    "\n",
    "    optimizer.zero_grad()\n",
    "    h, y_cate_new, y_color, y_gender, y_sleeve = net(one_hot)\n",
    "    loss_cate_new = criterion(y_cate_new, cuda_label_cate_new)\n",
    "    loss_color = criterion(y_color, cuda_label_color)\n",
    "    loss_gender = criterion(y_gender, cuda_label_gender)\n",
    "    loss_sleeve = criterion(y_sleeve, cuda_label_sleeve)\n",
    "    loss = loss_cate_new + loss_color + loss_gender + loss_sleeve\n",
    "    loss.backward()\n",
    "    optimizer.step()\n",
    "\n",
    "    if iter % 100 == 0:\n",
    "        print('Training Iter %d: Loss = %.5f, cate_new (%.5f), color (%.5f), gender(%.5f), sleeve(%.5f)' % (iter, loss.data, loss_cate_new.data, loss_color.data, loss_gender.data, loss_sleeve.data))\n",
    "\n",
    "    #if iter % 100 == 0:\n",
    "        #torch.save(net.state_dict(), 'rnn_model.pth')\"\"\""
   ]
  },
  {
   "cell_type": "code",
   "execution_count": 15,
   "metadata": {},
   "outputs": [
    {
     "name": "stdout",
     "output_type": "stream",
     "text": [
      "2500 / 78979\n",
      "5000 / 78979\n"
     ]
    }
   ],
   "source": [
    "\"\"\"lenData = len(Data_G2['ih'])\n",
    "\n",
    "wordCol = [\"ID\"]\n",
    "\n",
    "for i in range(41): # Frederik tilføj ekstra her\n",
    "    wordCol.append(\"WordCol_{}\".format(i))\n",
    "    \n",
    "wordList = []\n",
    "for ID in range(5000):\n",
    "    one_hot = one_hot_encoding(codeJ[ID], vocab_dim, batchsize_dim)\n",
    "    predictions = net.forward(one_hot)\n",
    "    values = predictions[0][0].tolist()\n",
    "    # Insert ID\n",
    "    values.insert(0,ID)\n",
    "    # Insert Dummy for now # Frederik insert dummy here\n",
    "    #values.append(0)\n",
    "    wordList.append(values)\n",
    "    \n",
    "    # Show progress\n",
    "    if len(wordList)%2500 == 0:\n",
    "        print(\"{} / {}\".format(ID+1, lenData))\"\"\""
   ]
  },
  {
   "cell_type": "code",
   "execution_count": 16,
   "metadata": {},
   "outputs": [],
   "source": [
    "\"\"\"df2 = pd.DataFrame(data=wordList, columns=wordCol)\n",
    "df2 = df2.set_index(\"ID\")\n",
    "df_final = df.join(df2)\n",
    "df_final.head(5)\n",
    "\n",
    "df_final.to_hdf(\"Data/Attributes.h5\", key=\"df_final\", mode=\"w\")\"\"\""
   ]
  },
  {
   "cell_type": "code",
   "execution_count": 17,
   "metadata": {},
   "outputs": [],
   "source": [
    "\"\"\"downsampledData = h5py.File('Data/CreatedDataSet.h5', 'r')\n",
    "Data_attributes = h5py.File('Data/Attributes.h5', 'r')\"\"\""
   ]
  },
  {
   "cell_type": "markdown",
   "metadata": {},
   "source": [
    "## Simple Sample ##"
   ]
  },
  {
   "cell_type": "markdown",
   "metadata": {},
   "source": [
    "### OBS. Unfortunately a mistake was made that overrode the initial generators. Because of lack of time there was not enough time to train them again and therefore the sample generated here is NOT of the same quality as the ones in the report. In order to achieve these the \"Training Gan 1\" and \"Training Gan 2\" would have to be run with 20k data points and at least 100 epochs which would take over 24 hours."
   ]
  },
  {
   "cell_type": "code",
   "execution_count": null,
   "metadata": {},
   "outputs": [],
   "source": [
    "index = 1\n",
    "\n",
    "realImage = Data_G2['ih'][index]\n",
    "realSegmentatedImage = Data_G2['b_'][index]\n",
    "from scipy.io import loadmat\n",
    "Data_matlab = loadmat('Data/language_original.mat')\n",
    "descriptionEng = Data_matlab[\"engJ\"][index]\n",
    "descriptionCodeJ = Data_matlab[\"codeJ\"][index]\n",
    "attributes = Data_attributes['df_final'][\"block0_values\"][index]\n",
    "downsampled = downsampledData['downsampledImg'][\"downsampledData\"][index]\n",
    "\n",
    "# Load generator1\n",
    "generator1Loaded = pickle.load(open('\\Models\\generator1_newest.sav', 'rb'))\n",
    "generator2Loaded = pickle.load(open('\\Models\\generator2_10k_200epoch.sav', 'rb'))"
   ]
  },
  {
   "cell_type": "code",
   "execution_count": null,
   "metadata": {},
   "outputs": [],
   "source": []
  },
  {
   "cell_type": "code",
   "execution_count": 123,
   "metadata": {},
   "outputs": [
    {
     "ename": "TypeError",
     "evalue": "expected np.ndarray (got Tensor)",
     "output_type": "error",
     "traceback": [
      "\u001b[1;31m---------------------------------------------------------------------------\u001b[0m",
      "\u001b[1;31mTypeError\u001b[0m                                 Traceback (most recent call last)",
      "\u001b[1;32m<ipython-input-123-f503abe21c8d>\u001b[0m in \u001b[0;36m<module>\u001b[1;34m\u001b[0m\n\u001b[0;32m      4\u001b[0m \u001b[0mrealSegmentationImage_onehot_true\u001b[0m \u001b[1;33m=\u001b[0m \u001b[0mVariable\u001b[0m\u001b[1;33m(\u001b[0m\u001b[0mrealSegmentationImage_onehot\u001b[0m\u001b[1;33m.\u001b[0m\u001b[0mview\u001b[0m\u001b[1;33m(\u001b[0m\u001b[1;36m1\u001b[0m\u001b[1;33m,\u001b[0m \u001b[0mrealSegmentationImage_onehot\u001b[0m\u001b[1;33m.\u001b[0m\u001b[0mshape\u001b[0m\u001b[1;33m[\u001b[0m\u001b[1;36m0\u001b[0m\u001b[1;33m]\u001b[0m\u001b[1;33m,\u001b[0m \u001b[0mrealSegmentationImage_onehot\u001b[0m\u001b[1;33m.\u001b[0m\u001b[0mshape\u001b[0m\u001b[1;33m[\u001b[0m\u001b[1;36m1\u001b[0m\u001b[1;33m]\u001b[0m\u001b[1;33m,\u001b[0m \u001b[0mrealSegmentationImage_onehot\u001b[0m\u001b[1;33m.\u001b[0m\u001b[0mshape\u001b[0m\u001b[1;33m[\u001b[0m\u001b[1;36m2\u001b[0m\u001b[1;33m]\u001b[0m\u001b[1;33m)\u001b[0m\u001b[1;33m)\u001b[0m\u001b[1;33m.\u001b[0m\u001b[0mto\u001b[0m\u001b[1;33m(\u001b[0m\u001b[0mdevice\u001b[0m\u001b[1;33m,\u001b[0m \u001b[0mdtype\u001b[0m\u001b[1;33m=\u001b[0m\u001b[0mtorch\u001b[0m\u001b[1;33m.\u001b[0m\u001b[0mfloat\u001b[0m\u001b[1;33m)\u001b[0m\u001b[1;33m\u001b[0m\u001b[1;33m\u001b[0m\u001b[0m\n\u001b[0;32m      5\u001b[0m \u001b[1;33m\u001b[0m\u001b[0m\n\u001b[1;32m----> 6\u001b[1;33m \u001b[0mattributes_tensor\u001b[0m \u001b[1;33m=\u001b[0m \u001b[0mtorch\u001b[0m\u001b[1;33m.\u001b[0m\u001b[0mfrom_numpy\u001b[0m\u001b[1;33m(\u001b[0m\u001b[0mattributes\u001b[0m\u001b[1;33m)\u001b[0m\u001b[1;33m\u001b[0m\u001b[1;33m\u001b[0m\u001b[0m\n\u001b[0m\u001b[0;32m      7\u001b[0m \u001b[0mdownsampled_tensor\u001b[0m \u001b[1;33m=\u001b[0m \u001b[0mtorch\u001b[0m\u001b[1;33m.\u001b[0m\u001b[0mfrom_numpy\u001b[0m\u001b[1;33m(\u001b[0m\u001b[0mdownsampled\u001b[0m\u001b[1;33m)\u001b[0m\u001b[1;33m\u001b[0m\u001b[1;33m\u001b[0m\u001b[0m\n\u001b[0;32m      8\u001b[0m \u001b[0mattributes_true\u001b[0m \u001b[1;33m=\u001b[0m \u001b[0mVariable\u001b[0m\u001b[1;33m(\u001b[0m\u001b[0mattributes_tensor\u001b[0m\u001b[1;33m.\u001b[0m\u001b[0mview\u001b[0m\u001b[1;33m(\u001b[0m\u001b[1;36m1\u001b[0m\u001b[1;33m,\u001b[0m \u001b[0mattributes_tensor\u001b[0m\u001b[1;33m.\u001b[0m\u001b[0mshape\u001b[0m\u001b[1;33m[\u001b[0m\u001b[1;36m0\u001b[0m\u001b[1;33m]\u001b[0m\u001b[1;33m,\u001b[0m \u001b[1;36m1\u001b[0m\u001b[1;33m,\u001b[0m \u001b[1;36m1\u001b[0m\u001b[1;33m)\u001b[0m\u001b[1;33m)\u001b[0m\u001b[1;33m.\u001b[0m\u001b[0mto\u001b[0m\u001b[1;33m(\u001b[0m\u001b[0mdevice\u001b[0m\u001b[1;33m,\u001b[0m \u001b[0mdtype\u001b[0m\u001b[1;33m=\u001b[0m\u001b[0mtorch\u001b[0m\u001b[1;33m.\u001b[0m\u001b[0mfloat\u001b[0m\u001b[1;33m)\u001b[0m\u001b[1;33m\u001b[0m\u001b[1;33m\u001b[0m\u001b[0m\n",
      "\u001b[1;31mTypeError\u001b[0m: expected np.ndarray (got Tensor)"
     ]
    }
   ],
   "source": [
    "latent_dim = 100\n",
    "\n",
    "realSegmentationImage_onehot = torch.from_numpy(OneHotEncodingImage(realSegmentatedImage, 7))[0].permute(2,0,1)\n",
    "realSegmentationImage_onehot_true = Variable(realSegmentationImage_onehot.view(1, realSegmentationImage_onehot.shape[0], realSegmentationImage_onehot.shape[1], realSegmentationImage_onehot.shape[2])).to(device, dtype=torch.float)\n",
    "\n",
    "attributes_tensor = torch.from_numpy(attributes)\n",
    "downsampled_tensor = torch.from_numpy(downsampled)\n",
    "attributes_true = Variable(attributes_tensor.view(1, attributes_tensor.shape[0], 1, 1)).to(device, dtype=torch.float) \n",
    "downsampled_true = Variable(downsampled_tensor.view(1, downsampled_tensor.shape[0], downsampled_tensor.shape[1], downsampled_tensor.shape[2])).to(device, dtype=torch.float)\n",
    "\n",
    "with torch.no_grad():\n",
    "  z = torch.randn(1, latent_dim, 1, 1)\n",
    "  z = Variable(z, requires_grad=False).cpu().to(device)\n",
    "  x_fake = generator1Loaded(z, downsampled_true, attributes_true)\n",
    "\n",
    "fakeSegmentationImage = Variable(x_fake).to(device, dtype=torch.float)\n",
    "\n",
    "x_fake = x_fake[0]\n",
    "\n",
    "threshold = -0.5\n",
    "print(x_fake.shape)\n",
    "x_fake[0][x_fake[0] > threshold] = 0\n",
    "x_fake[1][x_fake[1] > threshold] = 0\n",
    "x_fake[2][x_fake[2] > threshold] = 0\n",
    "x_fake[3][x_fake[3] > threshold] = 0\n",
    "x_fake[4][x_fake[4] > threshold] = 0\n",
    "x_fake[5][x_fake[5] > threshold] = 0\n",
    "x_fake[6][x_fake[6] > threshold] = 0\n",
    "\n",
    "x_fake[0][x_fake[0] < threshold] = 7\n",
    "x_fake[1][x_fake[1] < threshold] = 6\n",
    "x_fake[2][x_fake[2] < threshold] = 5\n",
    "x_fake[3][x_fake[3] < threshold] = 4\n",
    "x_fake[4][x_fake[4] < threshold] = 3\n",
    "x_fake[5][x_fake[5] < threshold] = 2\n",
    "x_fake[6][x_fake[6] < threshold] = 1\n",
    "\n",
    "\n",
    "f, axarr = plt.subplots(1, 2, figsize=(18, 7))\n",
    "ax = axarr[1]\n",
    "ax.set_title('Generated Segmentation Image')\n",
    "ax.axis('off')\n",
    "\n",
    "\n",
    "summation = x_fake[0] + x_fake[1] + x_fake[2] + x_fake[3] + x_fake[4] + x_fake[5] + x_fake[6] \n",
    "ax.imshow(summation.T.cpu(), cmap='gray')\n",
    "\n",
    "ax = axarr[0]\n",
    "ax.set_title('Original Segmentation Image')\n",
    "ax.axis('off')\n",
    "#print(image)\n",
    "\n",
    "summationReal = torch.from_numpy(realSegmentatedImage[0])\n",
    "ax.imshow(summationReal.T.cpu(), cmap='gray')\n",
    "\n",
    "#Image generating\n",
    "\n",
    "with torch.no_grad():\n",
    "  z = torch.randn(1, latent_dim, 1, 1)\n",
    "  z = Variable(z, requires_grad=False).cpu().to(device)\n",
    "  x_fake_img = generator2Loaded(z, realSegmentationImage_onehot_true, attributes_true)\n",
    "\n",
    "\n",
    "\n",
    "f, axarr2 = plt.subplots(1, 2, figsize=(18, 7))\n",
    "\n",
    "ax2 = axarr2[1]\n",
    "ax2.set_title('Generated image')\n",
    "ax2.axis('off')\n",
    "\n",
    "summation = normalize_image(x_fake_img[0])\n",
    "ax2.imshow(summation.T.cpu(), cmap='gray')\n",
    "\n",
    "ax2 = axarr2[0]\n",
    "ax2.set_title('Original image')\n",
    "ax2.axis('off')\n",
    "\n",
    "imagetest = normalize_image(torch.from_numpy(realImage))\n",
    "\n",
    "ax2.imshow(imagetest.T.cpu(), cmap='gray')\n"
   ]
  },
  {
   "cell_type": "markdown",
   "metadata": {},
   "source": [
    "## Training Gan 1 ##"
   ]
  },
  {
   "cell_type": "markdown",
   "metadata": {},
   "source": [
    "### Dataloader ###"
   ]
  },
  {
   "cell_type": "code",
   "execution_count": 127,
   "metadata": {},
   "outputs": [],
   "source": [
    "batch_size = 64\n",
    "\n",
    "dataset = DeepFashDataset.DatasetFirst(Data_G2, downsampledData, Data_attributes)\n",
    "\n",
    "num_train = 20000\n",
    "indices = list(range(num_train))\n",
    "split = int(math.floor(0.1 * num_train))\n",
    "\n",
    "train_idx, valid_idx = indices[split:], indices[:split]\n",
    "train_sampler = SubsetRandomSampler(train_idx)\n",
    "test_sampler = SubsetRandomSampler(valid_idx)\n",
    "\n",
    "train_loader = DataLoader(dataset, batch_size=batch_size, pin_memory=cuda, sampler = train_sampler)\n",
    "test_loader = DataLoader(dataset, batch_size=batch_size, pin_memory=cuda, sampler = test_sampler)\n"
   ]
  },
  {
   "cell_type": "markdown",
   "metadata": {},
   "source": [
    "### Training ###"
   ]
  },
  {
   "cell_type": "code",
   "execution_count": 128,
   "metadata": {},
   "outputs": [
    {
     "name": "stdout",
     "output_type": "stream",
     "text": [
      "Epoch tid: 242.16853547096252\n",
      "Epoch 0:\n",
      "D loss: 1.7711345016533602\n",
      "G loss: 11.792663895492012\n",
      "Epoch tid: 240.9747576713562\n",
      "Epoch 1:\n",
      "D loss: 1.764887882039902\n",
      "G loss: 11.61507753953866\n",
      "Epoch tid: 243.07212710380554\n",
      "Epoch 2:\n",
      "D loss: 1.7456054099908112\n",
      "G loss: 11.522555253184434\n",
      "Epoch tid: 242.65599846839905\n",
      "Epoch 3:\n",
      "D loss: 1.7484475052948538\n",
      "G loss: 11.441637191366642\n",
      "Epoch tid: 244.8081977367401\n",
      "Epoch 4:\n",
      "D loss: 1.772828719294663\n",
      "G loss: 11.369545280510652\n",
      "Epoch tid: 244.7765507698059\n",
      "Epoch 5:\n",
      "D loss: 1.7458122829173475\n",
      "G loss: 11.277809055138986\n",
      "Epoch tid: 244.67757034301758\n",
      "Epoch 6:\n",
      "D loss: 1.7590813750916339\n",
      "G loss: 11.244023126913302\n",
      "Epoch tid: 248.11076259613037\n",
      "Epoch 7:\n",
      "D loss: 1.7398088781546193\n",
      "G loss: 11.171570652765585\n",
      "Epoch tid: 243.67178964614868\n",
      "Epoch 8:\n",
      "D loss: 1.7347751145667218\n",
      "G loss: 11.126303466499275\n",
      "Epoch tid: 242.44226717948914\n",
      "Epoch 9:\n",
      "D loss: 1.7416054881210867\n",
      "G loss: 11.060527216458151\n"
     ]
    },
    {
     "ename": "KeyboardInterrupt",
     "evalue": "",
     "output_type": "error",
     "traceback": [
      "\u001b[1;31m---------------------------------------------------------------------------\u001b[0m",
      "\u001b[1;31mKeyboardInterrupt\u001b[0m                         Traceback (most recent call last)",
      "\u001b[1;32m<ipython-input-128-f59857ebe651>\u001b[0m in \u001b[0;36m<module>\u001b[1;34m\u001b[0m\n\u001b[0;32m     85\u001b[0m     \u001b[0moutput\u001b[0m \u001b[1;33m=\u001b[0m \u001b[0mdiscriminator1\u001b[0m\u001b[1;33m(\u001b[0m\u001b[0mG1\u001b[0m\u001b[1;33m,\u001b[0m \u001b[0mdownsampled_true_G\u001b[0m\u001b[1;33m,\u001b[0m \u001b[0mattributesX4_true_test\u001b[0m\u001b[1;33m)\u001b[0m\u001b[1;33m\u001b[0m\u001b[1;33m\u001b[0m\u001b[0m\n\u001b[0;32m     86\u001b[0m \u001b[1;33m\u001b[0m\u001b[0m\n\u001b[1;32m---> 87\u001b[1;33m     \u001b[0merror_generator\u001b[0m \u001b[1;33m=\u001b[0m \u001b[0mloss\u001b[0m\u001b[1;33m(\u001b[0m\u001b[0moutput\u001b[0m\u001b[1;33m,\u001b[0m \u001b[0mtrue_label_step4\u001b[0m\u001b[1;33m)\u001b[0m\u001b[1;33m\u001b[0m\u001b[1;33m\u001b[0m\u001b[0m\n\u001b[0m\u001b[0;32m     88\u001b[0m \u001b[1;33m\u001b[0m\u001b[0m\n\u001b[0;32m     89\u001b[0m     \u001b[0mtarget\u001b[0m \u001b[1;33m=\u001b[0m \u001b[0mVariable\u001b[0m\u001b[1;33m(\u001b[0m\u001b[0msegmentatedImage_true\u001b[0m\u001b[1;33m)\u001b[0m\u001b[1;33m.\u001b[0m\u001b[0mto\u001b[0m\u001b[1;33m(\u001b[0m\u001b[0mdevice\u001b[0m\u001b[1;33m,\u001b[0m\u001b[0mdtype\u001b[0m\u001b[1;33m=\u001b[0m\u001b[0mtorch\u001b[0m\u001b[1;33m.\u001b[0m\u001b[0mlong\u001b[0m\u001b[1;33m)\u001b[0m\u001b[1;33m\u001b[0m\u001b[1;33m\u001b[0m\u001b[0m\n",
      "\u001b[1;32m~\\Anaconda3\\lib\\site-packages\\torch\\nn\\modules\\module.py\u001b[0m in \u001b[0;36m__call__\u001b[1;34m(self, *input, **kwargs)\u001b[0m\n\u001b[0;32m    539\u001b[0m             \u001b[0mresult\u001b[0m \u001b[1;33m=\u001b[0m \u001b[0mself\u001b[0m\u001b[1;33m.\u001b[0m\u001b[0m_slow_forward\u001b[0m\u001b[1;33m(\u001b[0m\u001b[1;33m*\u001b[0m\u001b[0minput\u001b[0m\u001b[1;33m,\u001b[0m \u001b[1;33m**\u001b[0m\u001b[0mkwargs\u001b[0m\u001b[1;33m)\u001b[0m\u001b[1;33m\u001b[0m\u001b[1;33m\u001b[0m\u001b[0m\n\u001b[0;32m    540\u001b[0m         \u001b[1;32melse\u001b[0m\u001b[1;33m:\u001b[0m\u001b[1;33m\u001b[0m\u001b[1;33m\u001b[0m\u001b[0m\n\u001b[1;32m--> 541\u001b[1;33m             \u001b[0mresult\u001b[0m \u001b[1;33m=\u001b[0m \u001b[0mself\u001b[0m\u001b[1;33m.\u001b[0m\u001b[0mforward\u001b[0m\u001b[1;33m(\u001b[0m\u001b[1;33m*\u001b[0m\u001b[0minput\u001b[0m\u001b[1;33m,\u001b[0m \u001b[1;33m**\u001b[0m\u001b[0mkwargs\u001b[0m\u001b[1;33m)\u001b[0m\u001b[1;33m\u001b[0m\u001b[1;33m\u001b[0m\u001b[0m\n\u001b[0m\u001b[0;32m    542\u001b[0m         \u001b[1;32mfor\u001b[0m \u001b[0mhook\u001b[0m \u001b[1;32min\u001b[0m \u001b[0mself\u001b[0m\u001b[1;33m.\u001b[0m\u001b[0m_forward_hooks\u001b[0m\u001b[1;33m.\u001b[0m\u001b[0mvalues\u001b[0m\u001b[1;33m(\u001b[0m\u001b[1;33m)\u001b[0m\u001b[1;33m:\u001b[0m\u001b[1;33m\u001b[0m\u001b[1;33m\u001b[0m\u001b[0m\n\u001b[0;32m    543\u001b[0m             \u001b[0mhook_result\u001b[0m \u001b[1;33m=\u001b[0m \u001b[0mhook\u001b[0m\u001b[1;33m(\u001b[0m\u001b[0mself\u001b[0m\u001b[1;33m,\u001b[0m \u001b[0minput\u001b[0m\u001b[1;33m,\u001b[0m \u001b[0mresult\u001b[0m\u001b[1;33m)\u001b[0m\u001b[1;33m\u001b[0m\u001b[1;33m\u001b[0m\u001b[0m\n",
      "\u001b[1;32m~\\Anaconda3\\lib\\site-packages\\torch\\nn\\modules\\loss.py\u001b[0m in \u001b[0;36mforward\u001b[1;34m(self, input, target)\u001b[0m\n\u001b[0;32m    496\u001b[0m \u001b[1;33m\u001b[0m\u001b[0m\n\u001b[0;32m    497\u001b[0m     \u001b[1;32mdef\u001b[0m \u001b[0mforward\u001b[0m\u001b[1;33m(\u001b[0m\u001b[0mself\u001b[0m\u001b[1;33m,\u001b[0m \u001b[0minput\u001b[0m\u001b[1;33m,\u001b[0m \u001b[0mtarget\u001b[0m\u001b[1;33m)\u001b[0m\u001b[1;33m:\u001b[0m\u001b[1;33m\u001b[0m\u001b[1;33m\u001b[0m\u001b[0m\n\u001b[1;32m--> 498\u001b[1;33m         \u001b[1;32mreturn\u001b[0m \u001b[0mF\u001b[0m\u001b[1;33m.\u001b[0m\u001b[0mbinary_cross_entropy\u001b[0m\u001b[1;33m(\u001b[0m\u001b[0minput\u001b[0m\u001b[1;33m,\u001b[0m \u001b[0mtarget\u001b[0m\u001b[1;33m,\u001b[0m \u001b[0mweight\u001b[0m\u001b[1;33m=\u001b[0m\u001b[0mself\u001b[0m\u001b[1;33m.\u001b[0m\u001b[0mweight\u001b[0m\u001b[1;33m,\u001b[0m \u001b[0mreduction\u001b[0m\u001b[1;33m=\u001b[0m\u001b[0mself\u001b[0m\u001b[1;33m.\u001b[0m\u001b[0mreduction\u001b[0m\u001b[1;33m)\u001b[0m\u001b[1;33m\u001b[0m\u001b[1;33m\u001b[0m\u001b[0m\n\u001b[0m\u001b[0;32m    499\u001b[0m \u001b[1;33m\u001b[0m\u001b[0m\n\u001b[0;32m    500\u001b[0m \u001b[1;33m\u001b[0m\u001b[0m\n",
      "\u001b[1;32m~\\Anaconda3\\lib\\site-packages\\torch\\nn\\functional.py\u001b[0m in \u001b[0;36mbinary_cross_entropy\u001b[1;34m(input, target, weight, size_average, reduce, reduction)\u001b[0m\n\u001b[0;32m   2063\u001b[0m \u001b[1;33m\u001b[0m\u001b[0m\n\u001b[0;32m   2064\u001b[0m     return torch._C._nn.binary_cross_entropy(\n\u001b[1;32m-> 2065\u001b[1;33m         input, target, weight, reduction_enum)\n\u001b[0m\u001b[0;32m   2066\u001b[0m \u001b[1;33m\u001b[0m\u001b[0m\n\u001b[0;32m   2067\u001b[0m \u001b[1;33m\u001b[0m\u001b[0m\n",
      "\u001b[1;31mKeyboardInterrupt\u001b[0m: "
     ]
    }
   ],
   "source": [
    "import time\n",
    "\n",
    "loss = torch.nn.BCELoss()\n",
    "loss_seg = torch.nn.NLLLoss()\n",
    "\n",
    "discriminator_loss, generator_loss = [], []\n",
    "\n",
    "lambda_fake = 0.9\n",
    "lambda_mismatch = 1 - lambda_fake\n",
    "\n",
    "num_epochs = 20\n",
    "latent_dim = 100\n",
    "\n",
    "discriminator_optim = torch.optim.Adam(discriminator1.parameters(), 0.002, betas=(0.5, 0.999))\n",
    "generator_optim = torch.optim.Adam(generator1.parameters(), 0.002, betas=(0.5, 0.999))\n",
    "\n",
    "i = 0\n",
    "\n",
    "\n",
    "for epoch in range(num_epochs):\n",
    "  batch_d_loss, batch_g_loss = [], []\n",
    "  start = time.time()\n",
    "  for attributes, downsampled, segmentatedImage, segmentatedImage_onehot, wrong_data, wrong_processed, wrong_onehot in train_loader:\n",
    "    i = i + 1\n",
    "    batch_size = attributes.size(0)\n",
    "    # True data is given label 1, while fake data is given label 0\n",
    "    true_label = torch.ones(batch_size, 1, 1, 1).to(device)\n",
    "    true_label_step4 = torch.ones(batch_size, 1, 1, 1).to(device)\n",
    "    fake_label = torch.zeros(batch_size, 1, 1, 1).to(device)\n",
    "    fake_labelStep3 = torch.zeros(batch_size, 1, 1, 1).to(device)\n",
    "\n",
    "    attributes = attributes.view(attributes.size(0), attributes.size(1), 1, 1)\n",
    "    \n",
    "    \n",
    "    ## Discriminator ##\n",
    "    \n",
    "    discriminator_optim.zero_grad()\n",
    "    \n",
    "    attributesX4 = torch.cat((attributes, attributes, attributes, attributes), 2)\n",
    "    attributesX4 = torch.cat((attributesX4, attributesX4, attributesX4, attributesX4), 3)\n",
    "\n",
    "    attributes_true = Variable(attributes).to(device, dtype=torch.float)\n",
    "    attributesX4_true = Variable(attributesX4).to(device, dtype=torch.float)       \n",
    "    downsampled_true = Variable(downsampled).to(device, dtype=torch.float)\n",
    "    segmentatedImage_true = Variable(segmentatedImage).to(device, dtype=torch.float)\n",
    "    segmentatedImage_OneHot_true = Variable(segmentatedImage_onehot.permute(0,3,1,2)).to(device, dtype=torch.float)\n",
    "    segmentatedImage_OneHot_Wrong = Variable(wrong_onehot.permute(0,3,1,2)).to(device, dtype=torch.float)\n",
    "    downsampled_wrong = Variable(wrong_processed).to(device, dtype=torch.float)\n",
    "    \n",
    "    #Step 1 real data through discriminator and backprobagate.\n",
    "    output = discriminator1(segmentatedImage_OneHot_true, downsampled_true, attributesX4_true)\n",
    "    \n",
    "    error_true = loss(output, true_label)\n",
    "    \n",
    "    error_true.backward()\n",
    "    \n",
    "    ### Step 2 wrong data through discriminator\n",
    "\n",
    "    output = discriminator1(segmentatedImage_OneHot_Wrong ,downsampled_wrong,attributesX4_true)\n",
    "    \n",
    "    error_notmatch = lambda_mismatch * loss(output, fake_label) \n",
    "    \n",
    "    error_notmatch.backward()\n",
    "\n",
    "    \n",
    "    # Step 3 noise through generator.\n",
    "    z = torch.randn(batch_size, latent_dim, 1, 1)\n",
    "    z = Variable(z).to(device, dtype=torch.float)\n",
    "    attributes_true_G = Variable(attributes).to(device, dtype=torch.float)     \n",
    "    downsampled_true_G = Variable(downsampled).to(device, dtype=torch.float)\n",
    "    attributesX4_true_test = Variable(attributesX4).to(device, dtype=torch.float) \n",
    "\n",
    "    G1 = generator1(z, downsampled_true_G, attributes_true_G)\n",
    "    \n",
    "    output = discriminator1(G1.detach(), downsampled_true_G.detach(), attributesX4_true_test.detach())\n",
    "    \n",
    "    error_fake = lambda_fake * loss(output, fake_labelStep3)\n",
    "    error_fake.backward()\n",
    "    discriminator_optim.step()\n",
    "    \n",
    "    \n",
    "    ## GENERATOR ##\n",
    "    # Step 4 send the data through discriminator and update again and propagate generator error and update weights\n",
    "    generator_optim.zero_grad()\n",
    "    output = discriminator1(G1, downsampled_true_G, attributesX4_true_test)\n",
    "\n",
    "    error_generator = loss(output, true_label_step4)\n",
    "    \n",
    "    target = Variable(segmentatedImage_true).to(device,dtype=torch.long)\n",
    "    error_seg = 50*loss_seg(G1,target)\n",
    "    \n",
    "    error_total = error_generator + error_seg\n",
    "    \n",
    "    error_total.backward()\n",
    "    \n",
    "    generator_optim.step()\n",
    "    \n",
    "    \n",
    "    error1 = (error_true + error_fake + error_true).item()\n",
    "    error2 = (error_total).item()\n",
    "    \n",
    "    batch_d_loss.append(error1)\n",
    "    batch_g_loss.append(error2)\n",
    "    \n",
    "  batch_d_loss_mean = np.mean(batch_d_loss)\n",
    "  batch_g_loss_mean = np.mean(batch_g_loss)\n",
    "  if epoch % 1 == 0:\n",
    "      print(\"Epoch tid: {}\".format(time.time() - start))\n",
    "      print(\"Epoch {}:\".format(epoch))\n",
    "      print(\"D loss: {}\".format(batch_d_loss_mean))\n",
    "      print(\"G loss: {}\".format(batch_g_loss_mean))\n",
    "\n",
    "  discriminator_loss.append(batch_d_loss_mean)\n",
    "  generator_loss.append(batch_g_loss_mean)\n",
    "\n",
    "\n",
    "# -- Plotting --\n",
    "f, axarr = plt.subplots(1, 2, figsize=(18, 7))\n",
    "\n",
    "# Loss\n",
    "ax = axarr[0]\n",
    "ax.set_xlabel('Epoch')\n",
    "ax.set_ylabel('Loss')\n",
    "\n",
    "ax.plot(np.arange(epoch+1), discriminator_loss)\n",
    "\n",
    "ax.legend(['Discriminator'])\n",
    "\n",
    "ax = axarr[1]\n",
    "ax.set_xlabel('Epoch')\n",
    "ax.set_ylabel('Loss')\n",
    "ax.plot(np.arange(epoch+1), generator_loss, linestyle=\"--\")\n",
    "ax.legend(['Generator']) "
   ]
  },
  {
   "cell_type": "markdown",
   "metadata": {},
   "source": [
    "### Results"
   ]
  },
  {
   "cell_type": "code",
   "execution_count": 129,
   "metadata": {},
   "outputs": [
    {
     "ename": "ValueError",
     "evalue": "x and y must have same first dimension, but have shapes (11,) and (10,)",
     "output_type": "error",
     "traceback": [
      "\u001b[1;31m---------------------------------------------------------------------------\u001b[0m",
      "\u001b[1;31mValueError\u001b[0m                                Traceback (most recent call last)",
      "\u001b[1;32m<ipython-input-129-da99f6fc22e8>\u001b[0m in \u001b[0;36m<module>\u001b[1;34m\u001b[0m\n\u001b[0;32m      7\u001b[0m \u001b[0max\u001b[0m\u001b[1;33m.\u001b[0m\u001b[0mset_ylabel\u001b[0m\u001b[1;33m(\u001b[0m\u001b[1;34m'Loss'\u001b[0m\u001b[1;33m)\u001b[0m\u001b[1;33m\u001b[0m\u001b[1;33m\u001b[0m\u001b[0m\n\u001b[0;32m      8\u001b[0m \u001b[1;33m\u001b[0m\u001b[0m\n\u001b[1;32m----> 9\u001b[1;33m \u001b[0max\u001b[0m\u001b[1;33m.\u001b[0m\u001b[0mplot\u001b[0m\u001b[1;33m(\u001b[0m\u001b[0mnp\u001b[0m\u001b[1;33m.\u001b[0m\u001b[0marange\u001b[0m\u001b[1;33m(\u001b[0m\u001b[0mepoch\u001b[0m\u001b[1;33m+\u001b[0m\u001b[1;36m1\u001b[0m\u001b[1;33m)\u001b[0m\u001b[1;33m,\u001b[0m \u001b[0mdiscriminator_loss\u001b[0m\u001b[1;33m)\u001b[0m\u001b[1;33m\u001b[0m\u001b[1;33m\u001b[0m\u001b[0m\n\u001b[0m\u001b[0;32m     10\u001b[0m \u001b[1;33m\u001b[0m\u001b[0m\n\u001b[0;32m     11\u001b[0m \u001b[0max\u001b[0m\u001b[1;33m.\u001b[0m\u001b[0mlegend\u001b[0m\u001b[1;33m(\u001b[0m\u001b[1;33m[\u001b[0m\u001b[1;34m'Discriminator'\u001b[0m\u001b[1;33m]\u001b[0m\u001b[1;33m)\u001b[0m\u001b[1;33m\u001b[0m\u001b[1;33m\u001b[0m\u001b[0m\n",
      "\u001b[1;32m~\\Anaconda3\\lib\\site-packages\\matplotlib\\__init__.py\u001b[0m in \u001b[0;36minner\u001b[1;34m(ax, data, *args, **kwargs)\u001b[0m\n\u001b[0;32m   1808\u001b[0m                         \u001b[1;34m\"the Matplotlib list!)\"\u001b[0m \u001b[1;33m%\u001b[0m \u001b[1;33m(\u001b[0m\u001b[0mlabel_namer\u001b[0m\u001b[1;33m,\u001b[0m \u001b[0mfunc\u001b[0m\u001b[1;33m.\u001b[0m\u001b[0m__name__\u001b[0m\u001b[1;33m)\u001b[0m\u001b[1;33m,\u001b[0m\u001b[1;33m\u001b[0m\u001b[1;33m\u001b[0m\u001b[0m\n\u001b[0;32m   1809\u001b[0m                         RuntimeWarning, stacklevel=2)\n\u001b[1;32m-> 1810\u001b[1;33m             \u001b[1;32mreturn\u001b[0m \u001b[0mfunc\u001b[0m\u001b[1;33m(\u001b[0m\u001b[0max\u001b[0m\u001b[1;33m,\u001b[0m \u001b[1;33m*\u001b[0m\u001b[0margs\u001b[0m\u001b[1;33m,\u001b[0m \u001b[1;33m**\u001b[0m\u001b[0mkwargs\u001b[0m\u001b[1;33m)\u001b[0m\u001b[1;33m\u001b[0m\u001b[1;33m\u001b[0m\u001b[0m\n\u001b[0m\u001b[0;32m   1811\u001b[0m \u001b[1;33m\u001b[0m\u001b[0m\n\u001b[0;32m   1812\u001b[0m         inner.__doc__ = _add_data_doc(inner.__doc__,\n",
      "\u001b[1;32m~\\Anaconda3\\lib\\site-packages\\matplotlib\\axes\\_axes.py\u001b[0m in \u001b[0;36mplot\u001b[1;34m(self, scalex, scaley, *args, **kwargs)\u001b[0m\n\u001b[0;32m   1609\u001b[0m         \u001b[0mkwargs\u001b[0m \u001b[1;33m=\u001b[0m \u001b[0mcbook\u001b[0m\u001b[1;33m.\u001b[0m\u001b[0mnormalize_kwargs\u001b[0m\u001b[1;33m(\u001b[0m\u001b[0mkwargs\u001b[0m\u001b[1;33m,\u001b[0m \u001b[0mmlines\u001b[0m\u001b[1;33m.\u001b[0m\u001b[0mLine2D\u001b[0m\u001b[1;33m.\u001b[0m\u001b[0m_alias_map\u001b[0m\u001b[1;33m)\u001b[0m\u001b[1;33m\u001b[0m\u001b[1;33m\u001b[0m\u001b[0m\n\u001b[0;32m   1610\u001b[0m \u001b[1;33m\u001b[0m\u001b[0m\n\u001b[1;32m-> 1611\u001b[1;33m         \u001b[1;32mfor\u001b[0m \u001b[0mline\u001b[0m \u001b[1;32min\u001b[0m \u001b[0mself\u001b[0m\u001b[1;33m.\u001b[0m\u001b[0m_get_lines\u001b[0m\u001b[1;33m(\u001b[0m\u001b[1;33m*\u001b[0m\u001b[0margs\u001b[0m\u001b[1;33m,\u001b[0m \u001b[1;33m**\u001b[0m\u001b[0mkwargs\u001b[0m\u001b[1;33m)\u001b[0m\u001b[1;33m:\u001b[0m\u001b[1;33m\u001b[0m\u001b[1;33m\u001b[0m\u001b[0m\n\u001b[0m\u001b[0;32m   1612\u001b[0m             \u001b[0mself\u001b[0m\u001b[1;33m.\u001b[0m\u001b[0madd_line\u001b[0m\u001b[1;33m(\u001b[0m\u001b[0mline\u001b[0m\u001b[1;33m)\u001b[0m\u001b[1;33m\u001b[0m\u001b[1;33m\u001b[0m\u001b[0m\n\u001b[0;32m   1613\u001b[0m             \u001b[0mlines\u001b[0m\u001b[1;33m.\u001b[0m\u001b[0mappend\u001b[0m\u001b[1;33m(\u001b[0m\u001b[0mline\u001b[0m\u001b[1;33m)\u001b[0m\u001b[1;33m\u001b[0m\u001b[1;33m\u001b[0m\u001b[0m\n",
      "\u001b[1;32m~\\Anaconda3\\lib\\site-packages\\matplotlib\\axes\\_base.py\u001b[0m in \u001b[0;36m_grab_next_args\u001b[1;34m(self, *args, **kwargs)\u001b[0m\n\u001b[0;32m    391\u001b[0m                 \u001b[0mthis\u001b[0m \u001b[1;33m+=\u001b[0m \u001b[0margs\u001b[0m\u001b[1;33m[\u001b[0m\u001b[1;36m0\u001b[0m\u001b[1;33m]\u001b[0m\u001b[1;33m,\u001b[0m\u001b[1;33m\u001b[0m\u001b[1;33m\u001b[0m\u001b[0m\n\u001b[0;32m    392\u001b[0m                 \u001b[0margs\u001b[0m \u001b[1;33m=\u001b[0m \u001b[0margs\u001b[0m\u001b[1;33m[\u001b[0m\u001b[1;36m1\u001b[0m\u001b[1;33m:\u001b[0m\u001b[1;33m]\u001b[0m\u001b[1;33m\u001b[0m\u001b[1;33m\u001b[0m\u001b[0m\n\u001b[1;32m--> 393\u001b[1;33m             \u001b[1;32myield\u001b[0m \u001b[1;32mfrom\u001b[0m \u001b[0mself\u001b[0m\u001b[1;33m.\u001b[0m\u001b[0m_plot_args\u001b[0m\u001b[1;33m(\u001b[0m\u001b[0mthis\u001b[0m\u001b[1;33m,\u001b[0m \u001b[0mkwargs\u001b[0m\u001b[1;33m)\u001b[0m\u001b[1;33m\u001b[0m\u001b[1;33m\u001b[0m\u001b[0m\n\u001b[0m\u001b[0;32m    394\u001b[0m \u001b[1;33m\u001b[0m\u001b[0m\n\u001b[0;32m    395\u001b[0m \u001b[1;33m\u001b[0m\u001b[0m\n",
      "\u001b[1;32m~\\Anaconda3\\lib\\site-packages\\matplotlib\\axes\\_base.py\u001b[0m in \u001b[0;36m_plot_args\u001b[1;34m(self, tup, kwargs)\u001b[0m\n\u001b[0;32m    368\u001b[0m             \u001b[0mx\u001b[0m\u001b[1;33m,\u001b[0m \u001b[0my\u001b[0m \u001b[1;33m=\u001b[0m \u001b[0mindex_of\u001b[0m\u001b[1;33m(\u001b[0m\u001b[0mtup\u001b[0m\u001b[1;33m[\u001b[0m\u001b[1;33m-\u001b[0m\u001b[1;36m1\u001b[0m\u001b[1;33m]\u001b[0m\u001b[1;33m)\u001b[0m\u001b[1;33m\u001b[0m\u001b[1;33m\u001b[0m\u001b[0m\n\u001b[0;32m    369\u001b[0m \u001b[1;33m\u001b[0m\u001b[0m\n\u001b[1;32m--> 370\u001b[1;33m         \u001b[0mx\u001b[0m\u001b[1;33m,\u001b[0m \u001b[0my\u001b[0m \u001b[1;33m=\u001b[0m \u001b[0mself\u001b[0m\u001b[1;33m.\u001b[0m\u001b[0m_xy_from_xy\u001b[0m\u001b[1;33m(\u001b[0m\u001b[0mx\u001b[0m\u001b[1;33m,\u001b[0m \u001b[0my\u001b[0m\u001b[1;33m)\u001b[0m\u001b[1;33m\u001b[0m\u001b[1;33m\u001b[0m\u001b[0m\n\u001b[0m\u001b[0;32m    371\u001b[0m \u001b[1;33m\u001b[0m\u001b[0m\n\u001b[0;32m    372\u001b[0m         \u001b[1;32mif\u001b[0m \u001b[0mself\u001b[0m\u001b[1;33m.\u001b[0m\u001b[0mcommand\u001b[0m \u001b[1;33m==\u001b[0m \u001b[1;34m'plot'\u001b[0m\u001b[1;33m:\u001b[0m\u001b[1;33m\u001b[0m\u001b[1;33m\u001b[0m\u001b[0m\n",
      "\u001b[1;32m~\\Anaconda3\\lib\\site-packages\\matplotlib\\axes\\_base.py\u001b[0m in \u001b[0;36m_xy_from_xy\u001b[1;34m(self, x, y)\u001b[0m\n\u001b[0;32m    229\u001b[0m         \u001b[1;32mif\u001b[0m \u001b[0mx\u001b[0m\u001b[1;33m.\u001b[0m\u001b[0mshape\u001b[0m\u001b[1;33m[\u001b[0m\u001b[1;36m0\u001b[0m\u001b[1;33m]\u001b[0m \u001b[1;33m!=\u001b[0m \u001b[0my\u001b[0m\u001b[1;33m.\u001b[0m\u001b[0mshape\u001b[0m\u001b[1;33m[\u001b[0m\u001b[1;36m0\u001b[0m\u001b[1;33m]\u001b[0m\u001b[1;33m:\u001b[0m\u001b[1;33m\u001b[0m\u001b[1;33m\u001b[0m\u001b[0m\n\u001b[0;32m    230\u001b[0m             raise ValueError(\"x and y must have same first dimension, but \"\n\u001b[1;32m--> 231\u001b[1;33m                              \"have shapes {} and {}\".format(x.shape, y.shape))\n\u001b[0m\u001b[0;32m    232\u001b[0m         \u001b[1;32mif\u001b[0m \u001b[0mx\u001b[0m\u001b[1;33m.\u001b[0m\u001b[0mndim\u001b[0m \u001b[1;33m>\u001b[0m \u001b[1;36m2\u001b[0m \u001b[1;32mor\u001b[0m \u001b[0my\u001b[0m\u001b[1;33m.\u001b[0m\u001b[0mndim\u001b[0m \u001b[1;33m>\u001b[0m \u001b[1;36m2\u001b[0m\u001b[1;33m:\u001b[0m\u001b[1;33m\u001b[0m\u001b[1;33m\u001b[0m\u001b[0m\n\u001b[0;32m    233\u001b[0m             raise ValueError(\"x and y can be no greater than 2-D, but have \"\n",
      "\u001b[1;31mValueError\u001b[0m: x and y must have same first dimension, but have shapes (11,) and (10,)"
     ]
    },
    {
     "data": {
      "image/png": "[encoded data removed]",
      "text/plain": [
       "<Figure size 1296x504 with 2 Axes>"
      ]
     },
     "metadata": {
      "needs_background": "light"
     },
     "output_type": "display_data"
    }
   ],
   "source": [
    "# -- Plotting --\n",
    "f, axarr = plt.subplots(1, 2, figsize=(18, 7))\n",
    "\n",
    "# Loss\n",
    "ax = axarr[0]\n",
    "ax.set_xlabel('Epoch')\n",
    "ax.set_ylabel('Loss')\n",
    "\n",
    "ax.plot(np.arange(epoch+1), discriminator_loss)\n",
    "\n",
    "ax.legend(['Discriminator'])\n",
    "\n",
    "ax = axarr[1]\n",
    "ax.set_xlabel('Epoch')\n",
    "ax.set_ylabel('Loss')\n",
    "ax.plot(np.arange(epoch+1), generator_loss, linestyle=\"--\")\n",
    "ax.legend(['Generator']) "
   ]
  },
  {
   "cell_type": "code",
   "execution_count": 131,
   "metadata": {},
   "outputs": [
    {
     "data": {
      "text/plain": [
       "<matplotlib.image.AxesImage at 0x24f40ec9cf8>"
      ]
     },
     "execution_count": 131,
     "metadata": {},
     "output_type": "execute_result"
    },
    {
     "data": {
      "image/png": "[encoded data removed]",
      "text/plain": [
       "<Figure size 1296x504 with 2 Axes>"
      ]
     },
     "metadata": {
      "needs_background": "light"
     },
     "output_type": "display_data"
    }
   ],
   "source": [
    "# -- Plotting --\n",
    "f, axarr = plt.subplots(1, 2, figsize=(18, 7))\n",
    "\n",
    "# Latent space samples\n",
    "ax = axarr[1]\n",
    "ax.set_title('Generated Segmentation Image')\n",
    "ax.axis('off')\n",
    "\n",
    "# Generate data\n",
    "with torch.no_grad():\n",
    "  z = torch.randn(batch_size, latent_dim, 1, 1)\n",
    "  z = Variable(z, requires_grad=False).cpu().to(device)\n",
    "  x_fake = generator1(z, downsampled_true, attributes_true)\n",
    "\n",
    "index = 0\n",
    "\n",
    "x_fake = x_fake[index]\n",
    "#Minus since it's negative log likelihood that is used\n",
    "threshold = -0.5\n",
    "x_fake[0][x_fake[0] > threshold] = 0\n",
    "x_fake[1][x_fake[1] > threshold] = 0\n",
    "x_fake[2][x_fake[2] > threshold] = 0\n",
    "x_fake[3][x_fake[3] > threshold] = 0\n",
    "x_fake[4][x_fake[4] > threshold] = 0\n",
    "x_fake[5][x_fake[5] > threshold] = 0\n",
    "x_fake[6][x_fake[6] > threshold] = 0\n",
    "\n",
    "x_fake[0][x_fake[0] < threshold] = 7\n",
    "x_fake[1][x_fake[1] < threshold] = 6\n",
    "x_fake[2][x_fake[2] < threshold] = 5\n",
    "x_fake[3][x_fake[3] < threshold] = 4\n",
    "x_fake[4][x_fake[4] < threshold] = 3\n",
    "x_fake[5][x_fake[5] < threshold] = 2\n",
    "x_fake[6][x_fake[6] < threshold] = 1\n",
    "\n",
    "summation = x_fake[0] + x_fake[1] + x_fake[2] + x_fake[3] + x_fake[4] + x_fake[5] + x_fake[6] \n",
    "ax.imshow(summation.T.cpu(), cmap='gray')\n",
    "\n",
    "ax = axarr[0]\n",
    "ax.set_title('Original Segmentation Image')\n",
    "ax.axis('off')\n",
    "realSegmentation = segmentatedImage_true[index]\n",
    "\n",
    "ax.imshow(realSegmentation.T.cpu(), cmap='gray')"
   ]
  },
  {
   "cell_type": "markdown",
   "metadata": {},
   "source": [
    "## Training Gan 2"
   ]
  },
  {
   "cell_type": "markdown",
   "metadata": {},
   "source": [
    "## Dataloader"
   ]
  },
  {
   "cell_type": "code",
   "execution_count": 103,
   "metadata": {},
   "outputs": [],
   "source": [
    "batch_size = 64\n",
    "\n",
    "datasetTwo = DeepFashDataset.DatasetSecond(Data_G2, downsampledData, Data_attributes)\n",
    "\n",
    "num_train = 100\n",
    "indices = list(range(num_train))\n",
    "split = int(math.floor(0.1 * num_train))\n",
    "\n",
    "train_idx, valid_idx = indices[split:], indices[:split]\n",
    "train_sampler = SubsetRandomSampler(train_idx)\n",
    "test_sampler = SubsetRandomSampler(valid_idx)\n",
    "\n",
    "train_loader2 = DataLoader(datasetTwo, batch_size=batch_size, pin_memory=cuda, sampler = train_sampler)\n",
    "test_sampler2 = DataLoader(datasetTwo, batch_size=batch_size, pin_memory=cuda, sampler = test_sampler)"
   ]
  },
  {
   "cell_type": "markdown",
   "metadata": {},
   "source": [
    "## Training"
   ]
  },
  {
   "cell_type": "code",
   "execution_count": 104,
   "metadata": {},
   "outputs": [
    {
     "name": "stdout",
     "output_type": "stream",
     "text": [
      "Epoch tid: 3.0670876502990723\n",
      "Epoch 0:\n",
      "D loss: 0.9896998405456543\n",
      "G loss: 37.6105842590332\n"
     ]
    }
   ],
   "source": [
    "loss = torch.nn.BCELoss()\n",
    "loss_img = torch.nn.L1Loss()\n",
    "discriminator_loss, generator_loss = [], []\n",
    "\n",
    "num_epochs = 5\n",
    "lambda_fake = 0.9\n",
    "lambda_mismatch = 1 - lambda_fake\n",
    "latent_dim = 100\n",
    "\n",
    "discriminator_optim2 = torch.optim.Adam(discriminator2.parameters(), 2e-4, betas=(0.5, 0.999))\n",
    "generator_optim2 = torch.optim.Adam(generator2.parameters(), 2e-4, betas=(0.5, 0.999))\n",
    "\n",
    "for epoch in range(num_epochs):\n",
    "  batch_d_loss2, batch_g_loss2 = [], []\n",
    "  i = 0\n",
    "  start = time.time()\n",
    "  for attributes, data_processed, image, wrong_data, wrong_processed, segmentatedImage_onehot, segmentatedImage_onehot_wrong in train_loader2:\n",
    "    batch_size = attributes.size(0)\n",
    "    # True data is given label 1, while fake data is given label 0\n",
    "    true_label = torch.ones(batch_size, 1, 1, 1).to(device)\n",
    "    fake_label = torch.zeros(batch_size, 1, 1, 1).to(device)\n",
    "    attributes = attributes.view(attributes.size(0), attributes.size(1), 1, 1)\n",
    "    \n",
    "    ## Discriminator ##\n",
    "    \n",
    "    discriminator_optim2.zero_grad()\n",
    "    \n",
    "    attributesX4 = torch.cat((attributes, attributes, attributes, attributes), 2)\n",
    "    attributesX4 = torch.cat((attributesX4, attributesX4, attributesX4, attributesX4), 3)\n",
    "\n",
    "    attributes_true = Variable(attributes).to(device, dtype=torch.float)\n",
    "    attributesX4_true = Variable(attributesX4).to(device, dtype=torch.float)\n",
    "    image_true = Variable(image).to(device, dtype=torch.float)\n",
    "    image_wrong = Variable(wrong_data).to(device, dtype=torch.float)\n",
    "    downsampled_wrong = Variable(wrong_processed).to(device, dtype=torch.float)\n",
    "    segmentatedImage_onehot_true = Variable(segmentatedImage_onehot.permute(0,3,1,2)).to(device, dtype=torch.float)\n",
    "    segmentatedImage_onehot_wrong2 = Variable(segmentatedImage_onehot_wrong.permute(0,3,1,2)).to(device, dtype=torch.float)\n",
    "    \n",
    "    #Step 1 real data through discriminator and backprobagate.\n",
    "\n",
    "    output = discriminator2(image_true, segmentatedImage_onehot_true, attributesX4_true)\n",
    "    \n",
    "    error_true = loss(output, true_label)\n",
    "    error_true.backward()\n",
    "\n",
    "    ### Step 2\n",
    "    output = discriminator2(image_wrong ,segmentatedImage_onehot_wrong2,attributesX4_true)\n",
    "    \n",
    "    error_notmatch = lambda_mismatch * loss(output, fake_label) \n",
    "    \n",
    "    error_notmatch.backward()\n",
    "    \n",
    "    ###\n",
    "\n",
    "    # Step 3 noise through generator.\n",
    "    z = torch.randn(batch_size, latent_dim, 1, 1)\n",
    "    z = Variable(z).to(device, dtype=torch.float)\n",
    "    attributes_true_G = Variable(attributes).to(device, dtype=torch.float)     \n",
    "    segmentatedImage_true_G = Variable(segmentatedImage_onehot.permute(0,3,1,2)).to(device, dtype=torch.float)\n",
    "    G2 = generator2(z, segmentatedImage_true_G, attributes_true_G)\n",
    "\n",
    "\n",
    "    # send the data through discriminator and update\n",
    "\n",
    "    #downsampled_G_Var = Variable(test2).to(device, dtype=torch.float)\n",
    "    attributesX4_true_test = Variable(attributesX4).to(device, dtype=torch.float)   \n",
    "\n",
    "    output = discriminator2(G2.detach(), segmentatedImage_true_G.detach(), attributesX4_true_test.detach())\n",
    "\n",
    "\n",
    "    error_fake = lambda_fake * loss(output, fake_label)\n",
    "    error_fake.backward()\n",
    "    discriminator_optim2.step()\n",
    "\n",
    "    ## GENERATOR 2 ##\n",
    "    \n",
    "    # Step 4 send the data through discriminator and update again and propagate generator error and update weights\n",
    "    generator_optim2.zero_grad()\n",
    "    output = discriminator2(G2, segmentatedImage_true_G, attributesX4_true_test)\n",
    "\n",
    "    error_generator = loss(output, true_label)\n",
    "    \n",
    "    ## error sequence\n",
    "    target = Variable(image_true).to(device,dtype=torch.float)\n",
    "    error_seg = 100*loss_img(G2,target)\n",
    "    error_total = error_generator + error_seg\n",
    "    error_total.backward()\n",
    "    \n",
    "    generator_optim2.step()\n",
    "    \n",
    "    error1 = ((error_true + error_fake + error_true)/2).item()\n",
    "    error2 = (error_total).item()\n",
    "    \n",
    "    batch_d_loss2.append(error1)\n",
    "    batch_g_loss2.append(error2)\n",
    "    \n",
    "  batch_d_loss_mean = np.mean(batch_d_loss2)\n",
    "  batch_g_loss_mean = np.mean(batch_g_loss2)\n",
    "    \n",
    "  if epoch % 5 == 0:\n",
    "    print(\"Epoch tid: {}\".format(time.time() - start))\n",
    "    print(\"Epoch {}:\".format(epoch))\n",
    "    print(\"D loss: {}\".format(batch_d_loss_mean))\n",
    "    print(\"G loss: {}\".format(batch_g_loss_mean))\n",
    "\n",
    "\n",
    "  discriminator_loss.append(batch_d_loss_mean)\n",
    "  generator_loss.append(batch_g_loss_mean)"
   ]
  },
  {
   "cell_type": "markdown",
   "metadata": {},
   "source": [
    "### Results"
   ]
  },
  {
   "cell_type": "code",
   "execution_count": 105,
   "metadata": {},
   "outputs": [
    {
     "data": {
      "text/plain": [
       "<matplotlib.legend.Legend at 0x24f3de926a0>"
      ]
     },
     "execution_count": 105,
     "metadata": {},
     "output_type": "execute_result"
    },
    {
     "data": {
      "image/png": "[encoded data removed]",
      "text/plain": [
       "<Figure size 1296x504 with 2 Axes>"
      ]
     },
     "metadata": {
      "needs_background": "light"
     },
     "output_type": "display_data"
    }
   ],
   "source": [
    "# -- Plotting --\n",
    "f, axarr = plt.subplots(1, 2, figsize=(18, 7))\n",
    "\n",
    "# Loss\n",
    "ax = axarr[0]\n",
    "ax.set_xlabel('Epoch')\n",
    "ax.set_ylabel('Loss')\n",
    "\n",
    "ax.plot(np.arange(epoch+1), discriminator_loss)\n",
    "\n",
    "ax.legend(['Discriminator'])\n",
    "\n",
    "ax = axarr[1]\n",
    "ax.set_xlabel('Epoch')\n",
    "ax.set_ylabel('Loss')\n",
    "ax.plot(np.arange(epoch+1), generator_loss, linestyle=\"--\")\n",
    "ax.legend(['Generator'])   "
   ]
  },
  {
   "cell_type": "code",
   "execution_count": 113,
   "metadata": {},
   "outputs": [
    {
     "data": {
      "text/plain": [
       "<matplotlib.image.AxesImage at 0x24f3c9cedd8>"
      ]
     },
     "execution_count": 113,
     "metadata": {},
     "output_type": "execute_result"
    },
    {
     "data": {
      "image/png": "[encoded data removed]",
      "text/plain": [
       "<Figure size 1296x504 with 2 Axes>"
      ]
     },
     "metadata": {
      "needs_background": "light"
     },
     "output_type": "display_data"
    }
   ],
   "source": [
    "# -- Plotting --\n",
    "f, axarr = plt.subplots(1, 2, figsize=(18, 7))\n",
    "\n",
    "# Latent space samples\n",
    "ax = axarr[1]\n",
    "ax.set_title('Samples from generator')\n",
    "ax.axis('off')\n",
    "\n",
    "# Generate data\n",
    "with torch.no_grad():\n",
    "  z = torch.randn(batch_size, latent_dim, 1, 1)\n",
    "  z = Variable(z, requires_grad=False).cpu().to(device)\n",
    "  x_fake = generator2(z, segmentatedImage_onehot_true, attributes_true)\n",
    "\n",
    "index = 0\n",
    "\n",
    "ax = axarr[1]\n",
    "ax.set_title('Generated image')\n",
    "ax.axis('off')\n",
    "\n",
    "summation = normalize_image(x_fake[index])\n",
    "ax.imshow(summation.T.cpu(), cmap='gray')\n",
    "\n",
    "ax = axarr[0]\n",
    "ax.set_title('Original image')\n",
    "ax.axis('off')\n",
    "\n",
    "imagetest = image[index]\n",
    "imagetest = normalize_image(imagetest)\n",
    "ax.imshow(imagetest.T.cpu(), cmap='gray')"
   ]
  },
  {
   "cell_type": "code",
   "execution_count": null,
   "metadata": {},
   "outputs": [],
   "source": []
  }
 ],
 "metadata": {
  "kernelspec": {
   "display_name": "Python 3",
   "language": "python",
   "name": "python3"
  },
  "language_info": {
   "codemirror_mode": {
    "name": "ipython",
    "version": 3
   },
   "file_extension": ".py",
   "mimetype": "text/x-python",
   "name": "python",
   "nbconvert_exporter": "python",
   "pygments_lexer": "ipython3",
   "version": "3.7.1"
  }
 },
 "nbformat": 4,
 "nbformat_minor": 2
}
